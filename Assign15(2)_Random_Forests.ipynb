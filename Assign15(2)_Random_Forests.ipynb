{
  "nbformat": 4,
  "nbformat_minor": 0,
  "metadata": {
    "colab": {
      "name": "Assign15(2)_Random Forests.ipynb",
      "provenance": [],
      "authorship_tag": "ABX9TyNTp5gOIKXWzubKxupI6tqU",
      "include_colab_link": true
    },
    "kernelspec": {
      "name": "python3",
      "display_name": "Python 3"
    },
    "language_info": {
      "name": "python"
    }
  },
  "cells": [
    {
      "cell_type": "markdown",
      "metadata": {
        "id": "view-in-github",
        "colab_type": "text"
      },
      "source": [
        "<a href=\"https://colab.research.google.com/github/revati2013/Assignment15_Random-Forests/blob/main/Assign15(2)_Random_Forests.ipynb\" target=\"_parent\"><img src=\"https://colab.research.google.com/assets/colab-badge.svg\" alt=\"Open In Colab\"/></a>"
      ]
    },
    {
      "cell_type": "code",
      "execution_count": null,
      "metadata": {
        "id": "QNp_vDZETu1G"
      },
      "outputs": [],
      "source": [
        "# importing Libraries\n",
        "import pandas as pd\n",
        "import matplotlib.pyplot as plt\n",
        "import numpy as np\n",
        "from sklearn.model_selection import train_test_split\n",
        "from sklearn.tree import  DecisionTreeClassifier\n",
        "from sklearn import tree\n",
        "from sklearn.metrics import classification_report\n",
        "from sklearn import preprocessing"
      ]
    },
    {
      "cell_type": "code",
      "source": [
        "data= pd.read_csv('Fraud_check.csv')"
      ],
      "metadata": {
        "id": "iICTj7EhTwMb"
      },
      "execution_count": null,
      "outputs": []
    },
    {
      "cell_type": "markdown",
      "source": [
        "#EDA and Data Preprocessing"
      ],
      "metadata": {
        "id": "xfjJ6GhdUcza"
      }
    },
    {
      "cell_type": "code",
      "source": [
        "data.head()"
      ],
      "metadata": {
        "id": "gzwd5XI2UYGA"
      },
      "execution_count": null,
      "outputs": []
    },
    {
      "cell_type": "code",
      "source": [
        "data.info()"
      ],
      "metadata": {
        "id": "LXOHOu2VUipy"
      },
      "execution_count": null,
      "outputs": []
    },
    {
      "cell_type": "code",
      "source": [
        "data.describe()"
      ],
      "metadata": {
        "id": "Q8AGQG18UmZx"
      },
      "execution_count": null,
      "outputs": []
    },
    {
      "cell_type": "code",
      "source": [
        "# Renaming columns\n",
        "data = data.rename({'Undergrad':'under_grad', 'Marital.Status':'marital_status', 'Taxable.Income':'taxable_income',\n",
        "                    'City.Population':'city_population', 'Work.Experience':'work_experience', 'Urban':'urban'}, axis = 1)\n",
        "data.head()"
      ],
      "metadata": {
        "id": "NeE6HVOlUqpM"
      },
      "execution_count": null,
      "outputs": []
    },
    {
      "cell_type": "code",
      "source": [
        "# checking count of categories for categorical columns colums\n",
        "import seaborn as sns\n",
        "\n",
        "sns.countplot(data['under_grad'])\n",
        "plt.show()\n",
        "\n",
        "sns.countplot(data['marital_status'])\n",
        "plt.show()\n",
        "\n",
        "sns.countplot(data['urban'])\n",
        "plt.show()"
      ],
      "metadata": {
        "id": "eUj37YmLUxm7"
      },
      "execution_count": null,
      "outputs": []
    },
    {
      "cell_type": "code",
      "source": [
        "# Checking for outliers in numerical data\n",
        "sns.boxplot(data['taxable_income'])\n",
        "plt.show()\n",
        "\n",
        "sns.boxplot(data['city_population'])\n",
        "plt.show()\n",
        "\n",
        "sns.boxplot(data['work_experience'])\n",
        "plt.show()"
      ],
      "metadata": {
        "id": "oPDhhqYkU1hu"
      },
      "execution_count": null,
      "outputs": []
    },
    {
      "cell_type": "code",
      "source": [
        "# Correlation analysis for data\n",
        "corr = data.corr()\n",
        "#Plot figsize\n",
        "fig, ax = plt.subplots(figsize=(10, 6))\n",
        "#Generate Heat Map, allow annotations and place floats in map\n",
        "sns.heatmap(corr, cmap='magma', annot=True, fmt=\".2f\")\n",
        "#Apply xticks\n",
        "plt.xticks(range(len(corr.columns)), corr.columns);\n",
        "#Apply yticks\n",
        "plt.yticks(range(len(corr.columns)), corr.columns)\n",
        "#show plot\n",
        "plt.show()"
      ],
      "metadata": {
        "id": "WlsaxhPNU5EV"
      },
      "execution_count": null,
      "outputs": []
    },
    {
      "cell_type": "code",
      "source": [
        "# Converting categorical variables into dummy variables\n",
        "data = pd.get_dummies(data)\n",
        "data.head()"
      ],
      "metadata": {
        "id": "JeyyiiQmU9LM"
      },
      "execution_count": null,
      "outputs": []
    },
    {
      "cell_type": "code",
      "source": [
        "# Converting taxable_income <= 30000 as \"Risky\" and others are \"Good\"\n",
        "data['taxable_category'] = pd.cut(x = data['taxable_income'], bins = [10002,30000,99620], labels = ['Risky', 'Good'])\n",
        "data"
      ],
      "metadata": {
        "id": "v-p9vhdTVAXi"
      },
      "execution_count": null,
      "outputs": []
    },
    {
      "cell_type": "code",
      "source": [
        "sns.countplot(data['taxable_category'])"
      ],
      "metadata": {
        "id": "U_XJwQJjVDyg"
      },
      "execution_count": null,
      "outputs": []
    },
    {
      "cell_type": "code",
      "source": [
        "data['taxable_category'].value_counts()"
      ],
      "metadata": {
        "id": "d884xwMDVHbZ"
      },
      "execution_count": null,
      "outputs": []
    },
    {
      "cell_type": "code",
      "source": [
        "# dropping column taxable_income\n",
        "data1 = data.drop('taxable_income', axis = 1)\n",
        "data1"
      ],
      "metadata": {
        "id": "3W0Kw2fEVKVA"
      },
      "execution_count": null,
      "outputs": []
    },
    {
      "cell_type": "code",
      "source": [
        "# Correlation analysis for data11\n",
        "corr = data1.corr()\n",
        "#Plot figsize\n",
        "fig, ax = plt.subplots(figsize=(10, 6))\n",
        "#Generate Heat Map, allow annotations and place floats in map\n",
        "sns.heatmap(corr, cmap='magma', annot=True, fmt=\".2f\")\n",
        "#Apply xticks\n",
        "plt.xticks(range(len(corr.columns)), corr.columns);\n",
        "#Apply yticks\n",
        "plt.yticks(range(len(corr.columns)), corr.columns)\n",
        "#show plot\n",
        "plt.show()"
      ],
      "metadata": {
        "id": "K8KhdiMUVNM8"
      },
      "execution_count": null,
      "outputs": []
    },
    {
      "cell_type": "code",
      "source": [
        "# Dividing data into independent variables and dependent variable\n",
        "X = data1.drop('taxable_category', axis = 1)\n",
        "y = data1['taxable_category']"
      ],
      "metadata": {
        "id": "GY3Q9jn1VQ15"
      },
      "execution_count": null,
      "outputs": []
    },
    {
      "cell_type": "code",
      "source": [
        "X"
      ],
      "metadata": {
        "id": "zgFjQ0g3VUxD"
      },
      "execution_count": null,
      "outputs": []
    },
    {
      "cell_type": "code",
      "source": [
        "y"
      ],
      "metadata": {
        "id": "Gu5Huf-vVWHV"
      },
      "execution_count": null,
      "outputs": []
    },
    {
      "cell_type": "markdown",
      "source": [
        "Splitting data into train and test data"
      ],
      "metadata": {
        "id": "E3JhMBjXVc9d"
      }
    },
    {
      "cell_type": "code",
      "source": [
        "x_train, x_test, y_train, y_test = train_test_split(X, y, test_size=0.33, random_state=42)\n",
        "print(x_train.shape)\n",
        "print(x_test.shape)\n",
        "print(y_train.shape)\n",
        "print(y_test.shape)"
      ],
      "metadata": {
        "id": "fsdb5g-KVXUg"
      },
      "execution_count": null,
      "outputs": []
    },
    {
      "cell_type": "markdown",
      "source": [
        "#Building Model"
        "Random Forest Classification"
      ],
      "metadata": {
        "id": "toZBhX-TVjn5"
      }
    },
    {
      "cell_type": "code",
      "source": [
        "from sklearn.model_selection import KFold\n",
        "from sklearn.model_selection import cross_val_score\n",
        "from sklearn.ensemble import RandomForestClassifier\n",
        "\n",
        "num_trees = 100\n",
        "max_features = 'auto'\n",
        "model = RandomForestClassifier(n_estimators=num_trees, max_features=max_features)"
      ],
      "metadata": {
        "id": "noBMOEXxVeJY"
      },
      "execution_count": null,
      "outputs": []
    },
    {
      "cell_type": "code",
      "source": [
        "# Train the model on training data\n",
        "model.fit(x_train, y_train)"
      ],
      "metadata": {
        "id": "jyfLoJHyVnQ9"
      },
      "execution_count": null,
      "outputs": []
    },
    {
      "cell_type": "code",
      "source": [
        "kfold = KFold(n_splits=10, random_state=42, shuffle=True)\n",
        "\n",
        "results = cross_val_score(model, x_train, y_train, cv=kfold)\n",
        "print(results.mean())"
      ],
      "metadata": {
        "id": "Bl6bGeXwVoXJ"
      },
      "execution_count": null,
      "outputs": []
    },
    {
      "cell_type": "markdown",
      "source": [
        "Bagged Decision Trees for Classification"
      ],
      "metadata": {
        "id": "FBJQ2l_8V2rl"
      }
    },
    {
      "cell_type": "code",
      "source": [
        "from sklearn.ensemble import BaggingClassifier\n",
        "\n",
        "kfold = KFold(n_splits=10, random_state=42,shuffle=True)\n",
        "cart = DecisionTreeClassifier()\n",
        "num_trees = 100\n",
        "model = BaggingClassifier(base_estimator=cart, n_estimators=num_trees, random_state=42)\n",
        "results = cross_val_score(model, x_train, y_train, cv=kfold)\n",
        "print(results.mean())"
      ],
      "metadata": {
        "id": "SLSC_UV8Vrln"
      },
      "execution_count": null,
      "outputs": []
    },
    {
      "cell_type": "markdown",
      "source": [
        "AdaBoost Classification"
      ],
      "metadata": {
        "id": "Xgiix-v7WCio"
      }
    },
    {
      "cell_type": "code",
      "source": [
        "from sklearn.ensemble import AdaBoostClassifier\n",
        "\n",
        "kfold = KFold(n_splits=10, random_state=42,shuffle=True)\n",
        "model = AdaBoostClassifier(n_estimators=10, random_state=42)\n",
        "results = cross_val_score(model, x_train, y_train, cv=kfold)\n",
        "print(results.mean())"
      ],
      "metadata": {
        "id": "Tb-XzdsVV4Hm"
      },
      "execution_count": null,
      "outputs": []
    },
    {
      "cell_type": "code",
      "source": [
        ""
      ],
      "metadata": {
        "id": "Ix6fxc4UWD5b"
      },
      "execution_count": null,
      "outputs": []
    }
  ]
}
